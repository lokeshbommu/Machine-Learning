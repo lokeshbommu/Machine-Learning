{
 "cells": [
  {
   "cell_type": "code",
   "execution_count": 1,
   "id": "da5845bd",
   "metadata": {},
   "outputs": [],
   "source": [
    "import numpy as np"
   ]
  },
  {
   "cell_type": "code",
   "execution_count": 2,
   "id": "d9a1dcba",
   "metadata": {},
   "outputs": [
    {
     "data": {
      "text/plain": [
       "array([[0, 0, 0],\n",
       "       [0, 0, 0],\n",
       "       [0, 0, 0]])"
      ]
     },
     "execution_count": 2,
     "metadata": {},
     "output_type": "execute_result"
    }
   ],
   "source": [
    "a=np.zeros((3,3),dtype=int)\n",
    "a"
   ]
  },
  {
   "cell_type": "code",
   "execution_count": 3,
   "id": "e9eaf154",
   "metadata": {},
   "outputs": [
    {
     "data": {
      "text/plain": [
       "array([[1, 1],\n",
       "       [1, 1]])"
      ]
     },
     "execution_count": 3,
     "metadata": {},
     "output_type": "execute_result"
    }
   ],
   "source": [
    "b=np.ones((2,2),dtype=int)\n",
    "b"
   ]
  },
  {
   "cell_type": "code",
   "execution_count": 48,
   "id": "373c1b69",
   "metadata": {},
   "outputs": [
    {
     "name": "stdout",
     "output_type": "stream",
     "text": [
      "1 2 3 4 5 6 7 8 9 "
     ]
    }
   ],
   "source": [
    "a=np.array([1,2,3,4,5,6,7,8,9])\n",
    "for i in a:\n",
    "    print(i,end=' ')"
   ]
  },
  {
   "cell_type": "code",
   "execution_count": 5,
   "id": "3e1c5264",
   "metadata": {},
   "outputs": [
    {
     "name": "stdout",
     "output_type": "stream",
     "text": [
      "enter the size3\n",
      "Enter the value:1\n",
      "Enter the value:2\n",
      "Enter the value:3\n",
      "[1 2 3]\n"
     ]
    }
   ],
   "source": [
    "n=int(input(\"enter the size\"))\n",
    "arr=np.zeros(n,dtype=int)\n",
    "for i in range(n):\n",
    "    arr[i]=int(input(\"Enter the value:\"))\n",
    "print(arr)"
   ]
  },
  {
   "cell_type": "code",
   "execution_count": 23,
   "id": "c425f39b",
   "metadata": {},
   "outputs": [
    {
     "name": "stdout",
     "output_type": "stream",
     "text": [
      "1 - 3\n",
      "2 - 2\n",
      "3 - 1\n",
      "4 - 1\n",
      "5 - 1\n"
     ]
    }
   ],
   "source": [
    "x=np.array([1,2,3,2,4,1,1,5])\n",
    "dic={}\n",
    "for i in x:\n",
    "    if i not in dic:\n",
    "        dic[i]=1\n",
    "    else:\n",
    "        dic[i]+=1\n",
    "for a,b in dic.items():\n",
    "    print(a,'-',b)"
   ]
  },
  {
   "cell_type": "code",
   "execution_count": 17,
   "id": "0ad74286",
   "metadata": {},
   "outputs": [
    {
     "name": "stdout",
     "output_type": "stream",
     "text": [
      "Counter({1: 4, 3: 3, 9: 2, 2: 1, 7: 1, 10: 1})\n"
     ]
    }
   ],
   "source": [
    "import collections as col\n",
    "x = np.array([1,2,3,3,9,1,3,1,9,7,10,1])\n",
    "counter = col.Counter(x)\n",
    "print(counter)"
   ]
  },
  {
   "cell_type": "code",
   "execution_count": 7,
   "id": "31ff0c62",
   "metadata": {},
   "outputs": [
    {
     "name": "stdout",
     "output_type": "stream",
     "text": [
      "Enter the value:2\n"
     ]
    },
    {
     "data": {
      "text/plain": [
       "2"
      ]
     },
     "execution_count": 7,
     "metadata": {},
     "output_type": "execute_result"
    }
   ],
   "source": [
    "a=np.array([1,2,4,7,8,1,2,4,23,5])\n",
    "n=int(input(\"Enter the value:\"))\n",
    "np.count_nonzero(a==n)"
   ]
  },
  {
   "cell_type": "code",
   "execution_count": 29,
   "id": "33a7a30a",
   "metadata": {},
   "outputs": [
    {
     "data": {
      "text/plain": [
       "4"
      ]
     },
     "execution_count": 29,
     "metadata": {},
     "output_type": "execute_result"
    }
   ],
   "source": [
    "arr=np.array([1,2,3,3,4,5,6,7,8,9])\n",
    "np.count_nonzero(arr<4)"
   ]
  },
  {
   "cell_type": "code",
   "execution_count": 30,
   "id": "d85beb33",
   "metadata": {},
   "outputs": [
    {
     "data": {
      "text/plain": [
       "4"
      ]
     },
     "execution_count": 30,
     "metadata": {},
     "output_type": "execute_result"
    }
   ],
   "source": [
    "arr=np.array([1,2,3,3,4,5,6,7,8,9])\n",
    "len([i for i in arr if i<4])"
   ]
  },
  {
   "cell_type": "code",
   "execution_count": 41,
   "id": "4584a164",
   "metadata": {},
   "outputs": [
    {
     "name": "stdout",
     "output_type": "stream",
     "text": [
      "Counter({3: 6, 2: 5, 1: 4, 4: 2, 7: 2, 5: 1, 6: 1, 10: 1})\n",
      "[4, 5, 6, 7, 10]\n"
     ]
    }
   ],
   "source": [
    "arr=np.array([1,2,3,1,2,3,4,2,3,1,5,6,7,1,2,3,4,2,3,10,3,7])\n",
    "dic=col.Counter(arr)\n",
    "print(dic)\n",
    "print([a for a,b in dic.items() if b<4])"
   ]
  },
  {
   "cell_type": "code",
   "execution_count": 32,
   "id": "8ca96507",
   "metadata": {},
   "outputs": [
    {
     "name": "stdout",
     "output_type": "stream",
     "text": [
      "Enter the value:5\n",
      "True\n"
     ]
    }
   ],
   "source": [
    "arr=np.array([3,5,1,7,9,3])\n",
    "n=int(input(\"Enter the value:\"))\n",
    "print(n in arr)"
   ]
  },
  {
   "cell_type": "code",
   "execution_count": 33,
   "id": "43791b33",
   "metadata": {},
   "outputs": [
    {
     "name": "stdout",
     "output_type": "stream",
     "text": [
      "[10  4  8 12 20 22 19  8  6 16]\n",
      "4 22\n"
     ]
    }
   ],
   "source": [
    "arr=np.random.randint(3,25,10)\n",
    "print(arr)\n",
    "print(np.min(arr),np.max(arr))"
   ]
  },
  {
   "cell_type": "code",
   "execution_count": 34,
   "id": "9c28fb47",
   "metadata": {},
   "outputs": [
    {
     "name": "stdout",
     "output_type": "stream",
     "text": [
      "No.of values:3\n",
      "Enter the value:\n",
      "2\n",
      "8\n",
      "4\n",
      "2 - True\n",
      "8 - False\n",
      "4 - True\n"
     ]
    }
   ],
   "source": [
    "arr=np.array([3,7,1,7,3,1,5,2,9,4,6,12,43,16])\n",
    "n=int(input(\"No.of values:\"))\n",
    "a=np.zeros(n,dtype=int)\n",
    "print(\"Enter the value:\")\n",
    "for i in range(n):\n",
    "    a[i]=int(input())\n",
    "for i in a:\n",
    "    print(i,'-',i in arr)"
   ]
  }
 ],
 "metadata": {
  "kernelspec": {
   "display_name": "Python 3 (ipykernel)",
   "language": "python",
   "name": "python3"
  },
  "language_info": {
   "codemirror_mode": {
    "name": "ipython",
    "version": 3
   },
   "file_extension": ".py",
   "mimetype": "text/x-python",
   "name": "python",
   "nbconvert_exporter": "python",
   "pygments_lexer": "ipython3",
   "version": "3.9.7"
  }
 },
 "nbformat": 4,
 "nbformat_minor": 5
}
